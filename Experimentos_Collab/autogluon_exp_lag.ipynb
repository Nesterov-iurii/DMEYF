{
 "cells": [
  {
   "cell_type": "code",
   "execution_count": 1,
   "id": "55131be2-8210-4e88-aa5b-95851a78a330",
   "metadata": {},
   "outputs": [],
   "source": [
    "import pandas as pd\n",
    "import numpy as np\n",
    "\n",
    "df = pd.read_parquet('baseline_with_lags.parquet')"
   ]
  },
  {
   "cell_type": "code",
   "execution_count": 2,
   "id": "79fd830d-28c3-48e8-b375-f5ea05545bd6",
   "metadata": {},
   "outputs": [],
   "source": [
    "df['foto_mes'] = pd.to_datetime(df['foto_mes'], format='%Y%m')"
   ]
  },
  {
   "cell_type": "code",
   "execution_count": 3,
   "id": "681c25e5-9b48-42d8-abd3-b745a55ccbba",
   "metadata": {},
   "outputs": [],
   "source": [
    "df_val = df[df['foto_mes']=='2021-07-01']\n",
    "df_train = df[df['foto_mes']<'2021-07-01']"
   ]
  },
  {
   "cell_type": "code",
   "execution_count": 4,
   "id": "460588ea-609c-49b6-9b62-7f929b636358",
   "metadata": {},
   "outputs": [
    {
     "data": {
      "text/plain": [
       "((164682, 155), (979558, 155))"
      ]
     },
     "execution_count": 4,
     "metadata": {},
     "output_type": "execute_result"
    }
   ],
   "source": [
    "df_val.shape, df_train.shape"
   ]
  },
  {
   "cell_type": "code",
   "execution_count": 5,
   "id": "f3a1c2a5-017e-4459-9e52-5acb7341004a",
   "metadata": {},
   "outputs": [],
   "source": [
    "# X_train = df_train.drop(columns=['target'])\n",
    "# X_val = df_val.drop(columns=['target'])\n",
    "# y_train = df_train['target']\n",
    "# y_val = df_val['target']"
   ]
  },
  {
   "cell_type": "code",
   "execution_count": 11,
   "id": "02340849-800a-411c-acaf-433909383c38",
   "metadata": {},
   "outputs": [],
   "source": [
    "X_val = df_val.drop(columns=['target'])\n",
    "y_val = df_val['target']"
   ]
  },
  {
   "cell_type": "code",
   "execution_count": 6,
   "id": "73eda005-edff-465d-b9ef-e22067be451c",
   "metadata": {},
   "outputs": [
    {
     "name": "stdout",
     "output_type": "stream",
     "text": [
      "CPU times: user 1.64 s, sys: 4.64 s, total: 6.28 s\n",
      "Wall time: 744 ms\n"
     ]
    },
    {
     "name": "stderr",
     "output_type": "stream",
     "text": [
      "/home/ynesterov/autogluon/env/lib/python3.9/site-packages/tqdm/auto.py:21: TqdmWarning: IProgress not found. Please update jupyter and ipywidgets. See https://ipywidgets.readthedocs.io/en/stable/user_install.html\n",
      "  from .autonotebook import tqdm as notebook_tqdm\n"
     ]
    }
   ],
   "source": [
    "%%time\n",
    "from autogluon.tabular import TabularDataset, TabularPredictor\n",
    "\n",
    "train_data = TabularDataset(df_train)\n",
    "val_data = TabularDataset(df_val)"
   ]
  },
  {
   "cell_type": "code",
   "execution_count": null,
   "id": "b236a50e-d514-44b7-aace-1900d9db86f5",
   "metadata": {},
   "outputs": [],
   "source": [
    "from math import inf\n",
    "\n",
    "def normalized_ganancia(y_true: np.array,\n",
    "                      y_pred: np.array) -> float:\n",
    "    ganancia_df = pd.DataFrame({'prob': y_pred, 'truth': y_true})\n",
    "    ganancia_df = ganancia_df.sort_values(by='prob', ascending=False).reset_index(drop=True)\n",
    "    ganancia_df['ganancia_ind'] = np.where(ganancia_df['truth']==1, 273, -7)\n",
    "    ganancia_df['ganancia_roll'] = ganancia_df['ganancia_ind'].cumsum()\n",
    "    gan_max = ganancia_df['ganancia_roll'].max()\n",
    "    ind = ganancia_df[ganancia_df['ganancia_roll']==gan_max].index[0]\n",
    "    ideal_value = np.sum(np.where(y_val=='B2', 1, 0))*273\n",
    "    res = np.mean(ganancia_df['ganancia_roll'].iloc[ind-1000:ind+1001])\n",
    "    normalized_res = (ideal_value-res)/ideal_value\n",
    "    return normalized_res\n",
    "\n",
    "ag_mean_squared_error_custom_scorer = make_scorer(name='normalized_ganancia',\n",
    "                                                  score_func=normalized_ganancia,\n",
    "                                                  optimum=1,\n",
    "                                                  greater_is_better=True)"
   ]
  },
  {
   "cell_type": "code",
   "execution_count": null,
   "id": "4f4ac2da-b0e3-47b5-94cf-b94b500b579e",
   "metadata": {},
   "outputs": [
    {
     "name": "stderr",
     "output_type": "stream",
     "text": [
      "No path specified. Models will be saved in: \"AutogluonModels/ag-20231119_234858/\"\n",
      "Beginning AutoGluon training ... Time limit = 21600s\n",
      "AutoGluon will save models to \"AutogluonModels/ag-20231119_234858/\"\n",
      "AutoGluon Version:  0.8.2\n",
      "Python Version:     3.9.7\n",
      "Operating System:   Linux\n",
      "Platform Machine:   x86_64\n",
      "Platform Version:   #85-Ubuntu SMP Fri Jul 7 15:25:09 UTC 2023\n",
      "Disk Space Avail:   312.23 GB / 982.70 GB (31.8%)\n",
      "Train Data Rows:    979558\n",
      "Train Data Columns: 154\n",
      "Label Column: target\n",
      "Preprocessing data ...\n",
      "AutoGluon infers your prediction problem is: 'binary' (because only two unique label-values observed).\n",
      "\t2 unique label values:  ['C', 'B2']\n",
      "\tIf 'binary' is not the correct problem_type, please manually specify the problem_type parameter during predictor init (You may specify problem_type as one of: ['binary', 'multiclass', 'regression'])\n",
      "Selected class <--> label mapping:  class 1 = C, class 0 = B2\n",
      "\tNote: For your binary classification, AutoGluon arbitrarily selected which label-value represents positive (C) vs negative (B2) class.\n",
      "\tTo explicitly set the positive_class, either rename classes to 1 and 0, or specify positive_class in Predictor init.\n",
      "Using Feature Generators to preprocess the data ...\n",
      "Fitting AutoMLPipelineFeatureGenerator...\n",
      "\tAvailable Memory:                    326523.96 MB\n",
      "\tTrain Data (Original)  Memory Usage: 658.19 MB (0.2% of available memory)\n",
      "\tInferring data type of each feature based on column values. Set feature_metadata_in to manually specify special dtypes of the features.\n"
     ]
    }
   ],
   "source": [
    "predictor = TabularPredictor(label='target', eval_metric='f1').fit(\n",
    "    train_data,\n",
    "    time_limit=6*3600,\n",
    "    num_cpus=24,\n",
    "    num_stack_levels=0,\n",
    "    fit_weighted_ensemble=False,\n",
    ")"
   ]
  },
  {
   "cell_type": "code",
   "execution_count": 14,
   "id": "cc001759-d8d0-41f3-b6ba-f4e7a04e9adb",
   "metadata": {},
   "outputs": [],
   "source": [
    "preds = predictor.predict_proba(X_val)\n",
    "preds = preds['B2']\n",
    "y_val = np.where(y_val=='B2', 1, 0)"
   ]
  },
  {
   "cell_type": "code",
   "execution_count": 15,
   "id": "94c93447-c4b5-4eaa-b42c-6dff66ec042c",
   "metadata": {},
   "outputs": [],
   "source": [
    "def ganancia_integral(probs: np.array, \n",
    "                      y_true: np.array) -> float:\n",
    "    ganancia_df = pd.DataFrame({'prob': probs, 'truth': y_true})\n",
    "    ganancia_df = ganancia_df.sort_values(by='prob', ascending=False).reset_index(drop=True)\n",
    "    ganancia_df['ganancia_ind'] = np.where(ganancia_df['truth']==1, 273, -7)\n",
    "    ganancia_df['ganancia_roll'] = ganancia_df['ganancia_ind'].cumsum()\n",
    "    gan_max = ganancia_df['ganancia_roll'].max()\n",
    "    ind = ganancia_df[ganancia_df['ganancia_roll']==gan_max].index[0]\n",
    "    print(ind)\n",
    "    res = np.mean(ganancia_df['ganancia_roll'].iloc[ind-1000:ind+1001])\n",
    "    return res"
   ]
  },
  {
   "cell_type": "code",
   "execution_count": 16,
   "id": "796017c4-2eb7-4d39-a376-d80d08d61af4",
   "metadata": {},
   "outputs": [
    {
     "name": "stdout",
     "output_type": "stream",
     "text": [
      "20318\n"
     ]
    },
    {
     "data": {
      "text/plain": [
       "381046.700149925"
      ]
     },
     "execution_count": 16,
     "metadata": {},
     "output_type": "execute_result"
    }
   ],
   "source": [
    "# With B2+B1 target engineering\n",
    "ganancia_integral(preds, y_val)"
   ]
  },
  {
   "cell_type": "code",
   "execution_count": 19,
   "id": "58e725e0-a2a9-4671-be3f-4f64e578da34",
   "metadata": {},
   "outputs": [
    {
     "name": "stdout",
     "output_type": "stream",
     "text": [
      "135375.9935535241\n"
     ]
    }
   ],
   "source": [
    "# True value\n",
    "ganancia_integral(preds[1], y_val)"
   ]
  },
  {
   "cell_type": "code",
   "execution_count": null,
   "id": "b107f899-f516-43e2-84fa-b380ba82d8ce",
   "metadata": {},
   "outputs": [],
   "source": []
  }
 ],
 "metadata": {
  "kernelspec": {
   "display_name": "autogluon",
   "language": "python",
   "name": "autogluon"
  },
  "language_info": {
   "codemirror_mode": {
    "name": "ipython",
    "version": 3
   },
   "file_extension": ".py",
   "mimetype": "text/x-python",
   "name": "python",
   "nbconvert_exporter": "python",
   "pygments_lexer": "ipython3",
   "version": "3.9.7"
  }
 },
 "nbformat": 4,
 "nbformat_minor": 5
}
