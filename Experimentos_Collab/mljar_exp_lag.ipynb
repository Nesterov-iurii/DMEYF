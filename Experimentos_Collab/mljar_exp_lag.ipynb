{
 "cells": [
  {
   "cell_type": "code",
   "execution_count": 1,
   "id": "55131be2-8210-4e88-aa5b-95851a78a330",
   "metadata": {},
   "outputs": [],
   "source": [
    "import pandas as pd\n",
    "import numpy as np\n",
    "from supervised.automl import AutoML\n",
    "\n",
    "df = pd.read_parquet('baseline_with_lags.parquet')"
   ]
  },
  {
   "cell_type": "code",
   "execution_count": 2,
   "id": "79fd830d-28c3-48e8-b375-f5ea05545bd6",
   "metadata": {},
   "outputs": [],
   "source": [
    "df['foto_mes'] = pd.to_datetime(df['foto_mes'], format='%Y%m')"
   ]
  },
  {
   "cell_type": "code",
   "execution_count": 3,
   "id": "681c25e5-9b48-42d8-abd3-b745a55ccbba",
   "metadata": {},
   "outputs": [],
   "source": [
    "df_val = df[df['foto_mes']=='2021-07-01']\n",
    "df_train = df[df['foto_mes']<'2021-07-01']"
   ]
  },
  {
   "cell_type": "code",
   "execution_count": 4,
   "id": "460588ea-609c-49b6-9b62-7f929b636358",
   "metadata": {},
   "outputs": [
    {
     "data": {
      "text/plain": [
       "((164682, 374), (1460661, 374))"
      ]
     },
     "execution_count": 4,
     "metadata": {},
     "output_type": "execute_result"
    }
   ],
   "source": [
    "df_val.shape, df_train.shape"
   ]
  },
  {
   "cell_type": "code",
   "execution_count": 5,
   "id": "f3a1c2a5-017e-4459-9e52-5acb7341004a",
   "metadata": {},
   "outputs": [],
   "source": [
    "X_train = df_train.drop(columns=['target'])\n",
    "X_val = df_val.drop(columns=['target'])\n",
    "y_train = df_train['target']\n",
    "y_val = df_val['target']"
   ]
  },
  {
   "cell_type": "code",
   "execution_count": 6,
   "id": "73eda005-edff-465d-b9ef-e22067be451c",
   "metadata": {},
   "outputs": [
    {
     "name": "stdout",
     "output_type": "stream",
     "text": [
      "Linear algorithm was disabled.\n",
      "AutoML directory: AutoML_3\n",
      "The task is binary_classification with evaluation metric f1\n",
      "AutoML will use algorithms: ['Decision Tree', 'Random Forest', 'Extra Trees', 'LightGBM', 'Xgboost', 'CatBoost', 'Neural Network', 'Nearest Neighbors']\n",
      "AutoML steps: ['adjust_validation', 'simple_algorithms', 'default_algorithms', 'not_so_random', 'mix_encoding', 'golden_features', 'insert_random_feature', 'features_selection', 'hill_climbing_1', 'hill_climbing_2', 'boost_on_errors']\n",
      "* Step adjust_validation will try to check up to 1 model\n",
      "1_DecisionTree f1 0.994884 trained in 371.06 seconds\n",
      "Disable stacking for split validation\n",
      "* Step simple_algorithms will try to check up to 2 models\n",
      "2_DecisionTree f1 0.994925 trained in 368.59 seconds\n",
      "3_DecisionTree f1 0.994925 trained in 363.56 seconds\n",
      "* Step default_algorithms will try to check up to 6 models\n",
      "4_Default_LightGBM f1 0.994947 trained in 271.88 seconds\n"
     ]
    },
    {
     "name": "stderr",
     "output_type": "stream",
     "text": [
      "/home/ynesterov/miniconda3/lib/python3.9/site-packages/xgboost/training.py:39: UserWarning: `feval` is deprecated, use `custom_metric` instead.  They have different behavior when custom objective is also used.See https://xgboost.readthedocs.io/en/latest/tutorials/custom_metric_obj.html for details on the `custom_metric`.\n"
     ]
    },
    {
     "name": "stdout",
     "output_type": "stream",
     "text": [
      "5_Default_Xgboost f1 0.994942 trained in 263.75 seconds\n",
      "6_Default_CatBoost f1 0.99503 trained in 255.22 seconds\n",
      "7_Default_NeuralNetwork f1 0.994884 trained in 2044.66 seconds\n",
      "8_Default_RandomForest f1 0.994908 trained in 777.8 seconds\n",
      "9_Default_ExtraTrees f1 0.994925 trained in 789.25 seconds\n",
      "* Step not_so_random will try to check up to 54 models\n",
      "19_LightGBM f1 0.994954 trained in 250.05 seconds\n"
     ]
    },
    {
     "name": "stderr",
     "output_type": "stream",
     "text": [
      "/home/ynesterov/miniconda3/lib/python3.9/site-packages/xgboost/training.py:39: UserWarning: `feval` is deprecated, use `custom_metric` instead.  They have different behavior when custom objective is also used.See https://xgboost.readthedocs.io/en/latest/tutorials/custom_metric_obj.html for details on the `custom_metric`.\n"
     ]
    },
    {
     "name": "stdout",
     "output_type": "stream",
     "text": [
      "10_Xgboost f1 0.994986 trained in 285.06 seconds\n",
      "28_CatBoost f1 0.995006 trained in 264.48 seconds\n",
      "37_RandomForest f1 0.994908 trained in 791.13 seconds\n",
      "46_ExtraTrees f1 0.994949 trained in 625.92 seconds\n",
      "55_NeuralNetwork f1 0.994884 trained in 1927.27 seconds\n",
      "20_LightGBM f1 0.99495 trained in 265.58 seconds\n"
     ]
    },
    {
     "name": "stderr",
     "output_type": "stream",
     "text": [
      "/home/ynesterov/miniconda3/lib/python3.9/site-packages/xgboost/training.py:39: UserWarning: `feval` is deprecated, use `custom_metric` instead.  They have different behavior when custom objective is also used.See https://xgboost.readthedocs.io/en/latest/tutorials/custom_metric_obj.html for details on the `custom_metric`.\n"
     ]
    },
    {
     "name": "stdout",
     "output_type": "stream",
     "text": [
      "11_Xgboost f1 0.995016 trained in 291.83 seconds\n",
      "29_CatBoost f1 0.99506 trained in 284.24 seconds\n",
      "38_RandomForest f1 0.994952 trained in 1604.35 seconds\n",
      "47_ExtraTrees f1 0.994962 trained in 701.89 seconds\n",
      "56_NeuralNetwork f1 0.994884 trained in 2735.06 seconds\n",
      "Skip mix_encoding because of the time limit.\n",
      "Skip golden_features because of the time limit.\n",
      "Not enough time to perform features selection. Skip\n",
      "Time needed for features selection ~ 5352.0 seconds\n",
      "Please increase total_time_limit to at least (53581 seconds) to have features selection\n",
      "Skip insert_random_feature because no parameters were generated.\n",
      "Skip features_selection because no parameters were generated.\n",
      "* Step hill_climbing_1 will try to check up to 35 models\n",
      "57_CatBoost f1 0.99505 trained in 277.64 seconds\n",
      "58_CatBoost f1 0.995006 trained in 249.33 seconds\n",
      "59_CatBoost f1 0.995016 trained in 253.37 seconds\n"
     ]
    },
    {
     "name": "stderr",
     "output_type": "stream",
     "text": [
      "/home/ynesterov/miniconda3/lib/python3.9/site-packages/xgboost/training.py:39: UserWarning: `feval` is deprecated, use `custom_metric` instead.  They have different behavior when custom objective is also used.See https://xgboost.readthedocs.io/en/latest/tutorials/custom_metric_obj.html for details on the `custom_metric`.\n"
     ]
    },
    {
     "name": "stdout",
     "output_type": "stream",
     "text": [
      "60_Xgboost f1 0.99502 trained in 272.91 seconds\n",
      "61_CatBoost f1 0.994962 trained in 255.85 seconds\n",
      "62_CatBoost f1 0.995013 trained in 264.94 seconds\n"
     ]
    },
    {
     "name": "stderr",
     "output_type": "stream",
     "text": [
      "/home/ynesterov/miniconda3/lib/python3.9/site-packages/xgboost/training.py:39: UserWarning: `feval` is deprecated, use `custom_metric` instead.  They have different behavior when custom objective is also used.See https://xgboost.readthedocs.io/en/latest/tutorials/custom_metric_obj.html for details on the `custom_metric`.\n"
     ]
    },
    {
     "name": "stdout",
     "output_type": "stream",
     "text": [
      "63_Xgboost f1 0.994959 trained in 267.13 seconds\n"
     ]
    },
    {
     "name": "stderr",
     "output_type": "stream",
     "text": [
      "/home/ynesterov/miniconda3/lib/python3.9/site-packages/xgboost/training.py:39: UserWarning: `feval` is deprecated, use `custom_metric` instead.  They have different behavior when custom objective is also used.See https://xgboost.readthedocs.io/en/latest/tutorials/custom_metric_obj.html for details on the `custom_metric`.\n"
     ]
    },
    {
     "name": "stdout",
     "output_type": "stream",
     "text": [
      "64_Xgboost f1 0.994972 trained in 275.1 seconds\n",
      "65_ExtraTrees f1 0.994955 trained in 763.04 seconds\n",
      "66_ExtraTrees f1 0.994976 trained in 716.63 seconds\n",
      "67_LightGBM f1 0.99494 trained in 259.65 seconds\n",
      "68_LightGBM f1 0.994912 trained in 260.76 seconds\n",
      "* Step hill_climbing_2 will try to check up to 31 models\n",
      "69_CatBoost f1 0.99504 trained in 286.94 seconds\n",
      "70_CatBoost f1 0.995071 trained in 269.01 seconds\n",
      "71_CatBoost f1 0.995057 trained in 308.35 seconds\n",
      "72_CatBoost f1 0.99505 trained in 257.96 seconds\n",
      "73_CatBoost f1 0.995037 trained in 275.11 seconds\n",
      "74_CatBoost f1 0.995043 trained in 247.48 seconds\n",
      "84_LightGBM f1 0.99495 trained in 256.29 seconds\n",
      "AutoML fit time: 21707.2 seconds\n",
      "AutoML best model: 70_CatBoost\n",
      "CPU times: user 3d 6h 24min 49s, sys: 2d 7h 55min 47s, total: 5d 14h 20min 36s\n",
      "Wall time: 6h 2min 1s\n"
     ]
    }
   ],
   "source": [
    "%%time\n",
    "\n",
    "automl = AutoML(\n",
    "    total_time_limit=3600*6,\n",
    "    mode='Compete',\n",
    "    stack_models=False,\n",
    "    random_state=158151,\n",
    "    train_ensemble=False,\n",
    "    eval_metric='f1',\n",
    ")\n",
    "automl.fit(X_train, y_train)"
   ]
  },
  {
   "cell_type": "code",
   "execution_count": 7,
   "id": "cc001759-d8d0-41f3-b6ba-f4e7a04e9adb",
   "metadata": {},
   "outputs": [],
   "source": [
    "preds = automl.predict_proba(X_val)\n",
    "preds=preds[:,0]\n",
    "y_val = np.where(y_val=='B2', 1, 0)"
   ]
  },
  {
   "cell_type": "code",
   "execution_count": 8,
   "id": "94c93447-c4b5-4eaa-b42c-6dff66ec042c",
   "metadata": {},
   "outputs": [],
   "source": [
    "def ganancia_integral(probs: np.array, \n",
    "                      y_true: np.array) -> float:\n",
    "    ganancia_df = pd.DataFrame({'prob': probs, 'truth': y_true})\n",
    "    ganancia_df = ganancia_df.sort_values(by='prob', ascending=False).reset_index(drop=True)\n",
    "    ganancia_df['ganancia_ind'] = np.where(ganancia_df['truth']==1, 273, -7)\n",
    "    ganancia_df['ganancia_roll'] = ganancia_df['ganancia_ind'].cumsum()\n",
    "    gan_max = ganancia_df['ganancia_roll'].max()\n",
    "    ind = ganancia_df[ganancia_df['ganancia_roll']==gan_max].index[0]\n",
    "    print(ind)\n",
    "    res = np.mean(ganancia_df['ganancia_roll'].iloc[ind-1000:ind+1001])\n",
    "    return res"
   ]
  },
  {
   "cell_type": "code",
   "execution_count": 9,
   "id": "796017c4-2eb7-4d39-a376-d80d08d61af4",
   "metadata": {},
   "outputs": [
    {
     "name": "stdout",
     "output_type": "stream",
     "text": [
      "19098\n"
     ]
    },
    {
     "data": {
      "text/plain": [
       "377248.5092453773"
      ]
     },
     "execution_count": 9,
     "metadata": {},
     "output_type": "execute_result"
    }
   ],
   "source": [
    "# target engineering value\n",
    "\n",
    "ganancia_integral(preds, y_val)"
   ]
  },
  {
   "cell_type": "code",
   "execution_count": null,
   "id": "58e725e0-a2a9-4671-be3f-4f64e578da34",
   "metadata": {},
   "outputs": [],
   "source": [
    "# True value\n",
    "ganancia_integral(preds, y_val)"
   ]
  },
  {
   "cell_type": "code",
   "execution_count": null,
   "id": "025d2084-065c-4544-abd7-e5199baa0fb2",
   "metadata": {},
   "outputs": [],
   "source": []
  }
 ],
 "metadata": {
  "kernelspec": {
   "display_name": "Python 3 (ipykernel)",
   "language": "python",
   "name": "python3"
  },
  "language_info": {
   "codemirror_mode": {
    "name": "ipython",
    "version": 3
   },
   "file_extension": ".py",
   "mimetype": "text/x-python",
   "name": "python",
   "nbconvert_exporter": "python",
   "pygments_lexer": "ipython3",
   "version": "3.9.7"
  }
 },
 "nbformat": 4,
 "nbformat_minor": 5
}
