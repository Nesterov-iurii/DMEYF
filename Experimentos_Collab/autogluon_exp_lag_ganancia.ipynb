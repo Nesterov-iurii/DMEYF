{
 "cells": [
  {
   "cell_type": "code",
   "execution_count": 1,
   "id": "55131be2-8210-4e88-aa5b-95851a78a330",
   "metadata": {},
   "outputs": [],
   "source": [
    "import pandas as pd\n",
    "import numpy as np\n",
    "\n",
    "df = pd.read_parquet('baseline_with_lags.parquet')"
   ]
  },
  {
   "cell_type": "code",
   "execution_count": 2,
   "id": "79fd830d-28c3-48e8-b375-f5ea05545bd6",
   "metadata": {},
   "outputs": [],
   "source": [
    "df['foto_mes'] = pd.to_datetime(df['foto_mes'], format='%Y%m')\n",
    "# df['target'] = df['target'].map({'C': 0, 'B2': 1})\n",
    "# df['target'].value_counts()"
   ]
  },
  {
   "cell_type": "code",
   "execution_count": 3,
   "id": "681c25e5-9b48-42d8-abd3-b745a55ccbba",
   "metadata": {},
   "outputs": [],
   "source": [
    "df_val = df[df['foto_mes']=='2021-07-01']\n",
    "df_train = df[df['foto_mes']<'2021-07-01']"
   ]
  },
  {
   "cell_type": "code",
   "execution_count": 4,
   "id": "e6d037c5-492c-485a-b334-7f1e4accfbef",
   "metadata": {},
   "outputs": [
    {
     "name": "stderr",
     "output_type": "stream",
     "text": [
      "/tmp/ipykernel_2358886/3571757368.py:3: SettingWithCopyWarning: \n",
      "A value is trying to be set on a copy of a slice from a DataFrame.\n",
      "Try using .loc[row_indexer,col_indexer] = value instead\n",
      "\n",
      "See the caveats in the documentation: https://pandas.pydata.org/pandas-docs/stable/user_guide/indexing.html#returning-a-view-versus-a-copy\n",
      "  df_val['target'] = np.where(df_val['numero_de_cliente'].isin(b1), 'B1', df_val['target'])\n"
     ]
    }
   ],
   "source": [
    "# just a list of clients to recover true label, B1 or B2\n",
    "b1_clients = pd.read_csv('B1_clients_202107.csv')\n",
    "b1 = set(b1_clients['numero_de_cliente'])\n",
    "df_val['target'] = np.where(df_val['numero_de_cliente'].isin(b1), 'B1', df_val['target'])"
   ]
  },
  {
   "cell_type": "code",
   "execution_count": 5,
   "id": "460588ea-609c-49b6-9b62-7f929b636358",
   "metadata": {},
   "outputs": [
    {
     "data": {
      "text/plain": [
       "((164682, 374), (1460661, 374))"
      ]
     },
     "execution_count": 5,
     "metadata": {},
     "output_type": "execute_result"
    }
   ],
   "source": [
    "df_val.shape, df_train.shape"
   ]
  },
  {
   "cell_type": "code",
   "execution_count": 6,
   "id": "f3a1c2a5-017e-4459-9e52-5acb7341004a",
   "metadata": {},
   "outputs": [],
   "source": [
    "# X_train = df_train.drop(columns=['target'])\n",
    "# X_val = df_val.drop(columns=['target'])\n",
    "# y_train = df_train['target']\n",
    "# y_val = df_val['target']"
   ]
  },
  {
   "cell_type": "code",
   "execution_count": 7,
   "id": "02340849-800a-411c-acaf-433909383c38",
   "metadata": {},
   "outputs": [],
   "source": [
    "X_val = df_val.drop(columns=['target'])\n",
    "y_val = df_val['target']"
   ]
  },
  {
   "cell_type": "code",
   "execution_count": 8,
   "id": "73eda005-edff-465d-b9ef-e22067be451c",
   "metadata": {},
   "outputs": [
    {
     "name": "stdout",
     "output_type": "stream",
     "text": [
      "CPU times: user 1.48 s, sys: 3.61 s, total: 5.09 s\n",
      "Wall time: 873 ms\n"
     ]
    },
    {
     "name": "stderr",
     "output_type": "stream",
     "text": [
      "/home/ynesterov/autogluon/env/lib/python3.9/site-packages/tqdm/auto.py:21: TqdmWarning: IProgress not found. Please update jupyter and ipywidgets. See https://ipywidgets.readthedocs.io/en/stable/user_install.html\n",
      "  from .autonotebook import tqdm as notebook_tqdm\n"
     ]
    }
   ],
   "source": [
    "%%time\n",
    "from autogluon.tabular import TabularDataset, TabularPredictor\n",
    "\n",
    "train_data = TabularDataset(df_train)\n",
    "val_data = TabularDataset(df_val)"
   ]
  },
  {
   "cell_type": "code",
   "execution_count": 9,
   "id": "b236a50e-d514-44b7-aace-1900d9db86f5",
   "metadata": {},
   "outputs": [],
   "source": [
    "from autogluon.core.metrics import make_scorer\n",
    "\n",
    "def normalized_ganancia(y_true: np.array,\n",
    "                      y_pred: np.array) -> float:\n",
    "    # Floats to avoid underflow\n",
    "    ideal_value = np.sum(y_true)*0.273\n",
    "    ganancia = y_true*0.280 - 0.007\n",
    "    ganancia_df = pd.DataFrame({'prob': y_pred, 'ganancia': ganancia})\n",
    "    ganancia_df = ganancia_df.sort_values(by='prob', ascending=False).reset_index(drop=True)\n",
    "    ganancia_df['ganancia_roll'] = ganancia_df['ganancia'].cumsum()\n",
    "    \n",
    "    gan_max = ganancia_df['ganancia_roll'].max()\n",
    "    ind = ganancia_df[ganancia_df['ganancia_roll']==gan_max].index[0]\n",
    "    lo = ind-2000 if ind>2000 else 0\n",
    "    res = np.mean(ganancia_df['ganancia_roll'].iloc[lo:ind])\n",
    "    \n",
    "    normalized_res = res/ideal_value\n",
    "    print(f'ideal_value {ideal_value} res {res}, ind {ind}, gan_max {gan_max} normalized_res {normalized_res}')\n",
    "    return normalized_res\n",
    "\n",
    "ag_ganancia_custom_scorer = make_scorer(name='normalized_ganancia',\n",
    "                                      score_func=normalized_ganancia,\n",
    "                                      optimum=1,\n",
    "                                      greater_is_better=True)"
   ]
  },
  {
   "cell_type": "code",
   "execution_count": 9,
   "id": "4f4ac2da-b0e3-47b5-94cf-b94b500b579e",
   "metadata": {},
   "outputs": [
    {
     "name": "stderr",
     "output_type": "stream",
     "text": [
      "No path specified. Models will be saved in: \"AutogluonModels/ag-20231120_210737/\"\n",
      "Beginning AutoGluon training ... Time limit = 3600s\n",
      "AutoGluon will save models to \"AutogluonModels/ag-20231120_210737/\"\n",
      "AutoGluon Version:  0.8.2\n",
      "Python Version:     3.9.7\n",
      "Operating System:   Linux\n",
      "Platform Machine:   x86_64\n",
      "Platform Version:   #85-Ubuntu SMP Fri Jul 7 15:25:09 UTC 2023\n",
      "Disk Space Avail:   395.60 GB / 982.70 GB (40.3%)\n",
      "Train Data Rows:    1460661\n",
      "Train Data Columns: 373\n",
      "Label Column: target\n",
      "Preprocessing data ...\n",
      "AutoGluon infers your prediction problem is: 'binary' (because only two unique label-values observed).\n",
      "\t2 unique label values:  [0, 1]\n",
      "\tIf 'binary' is not the correct problem_type, please manually specify the problem_type parameter during predictor init (You may specify problem_type as one of: ['binary', 'multiclass', 'regression'])\n",
      "Selected class <--> label mapping:  class 1 = 1, class 0 = 0\n",
      "Using Feature Generators to preprocess the data ...\n",
      "Fitting AutoMLPipelineFeatureGenerator...\n",
      "\tAvailable Memory:                    304243.24 MB\n",
      "\tTrain Data (Original)  Memory Usage: 2261.02 MB (0.7% of available memory)\n",
      "\tInferring data type of each feature based on column values. Set feature_metadata_in to manually specify special dtypes of the features.\n",
      "\tStage 1 Generators:\n",
      "\t\tFitting AsTypeFeatureGenerator...\n",
      "\t\t\tNote: Converting 9 features to boolean dtype as they only contain 2 unique values.\n",
      "\tStage 2 Generators:\n",
      "\t\tFitting FillNaFeatureGenerator...\n",
      "\tStage 3 Generators:\n",
      "\t\tFitting IdentityFeatureGenerator...\n",
      "\t\tFitting CategoryFeatureGenerator...\n",
      "\t\t\tFitting CategoryMemoryMinimizeFeatureGenerator...\n",
      "\t\tFitting DatetimeFeatureGenerator...\n",
      "\tStage 4 Generators:\n",
      "\t\tFitting DropUniqueFeatureGenerator...\n",
      "\tStage 5 Generators:\n",
      "\t\tFitting DropDuplicatesFeatureGenerator...\n",
      "\tUnused Original Features (Count: 19): ['Master_mconsumototal', 'Visa_madelantodolares', 'Visa_mconsumototal', 'mcuenta_corriente_adicional_lag1', 'Master_madelantodolares_lag1', 'Master_mconsumototal_lag1', 'Visa_madelantodolares_lag1', 'Visa_mconsumototal_lag1', 'mcuenta_corriente_adicional_lag3', 'Master_madelantodolares_lag3', 'Master_mconsumototal_lag3', 'Visa_madelantodolares_lag3', 'Visa_mconsumototal_lag3', 'mcuenta_corriente_adicional_lag6', 'mpayroll2_lag6', 'Master_madelantodolares_lag6', 'Master_mconsumototal_lag6', 'Visa_madelantodolares_lag6', 'Visa_mconsumototal_lag6']\n",
      "\t\tThese features were not used to generate any of the output features. Add a feature generator compatible with these features to utilize them.\n",
      "\t\tFeatures can also be unused if they carry very little information, such as being categorical but having almost entirely unique values or being duplicates of other features.\n",
      "\t\tThese features do not need to be present at inference time.\n",
      "\t\t('float', []) : 19 | ['Master_mconsumototal', 'Visa_madelantodolares', 'Visa_mconsumototal', 'mcuenta_corriente_adicional_lag1', 'Master_madelantodolares_lag1', ...]\n",
      "\tTypes of features in original data (raw dtype, special dtypes):\n",
      "\t\t('bool', [])     :   6 | ['active_quarter', 'cliente_vip', 'cdescubierto_preacordado', 'tcallcenter', 'thomebanking', ...]\n",
      "\t\t('datetime', []) :   1 | ['foto_mes']\n",
      "\t\t('float', [])    : 287 | ['mrentabilidad', 'mrentabilidad_annual', 'mcomisiones', 'mactivos_margen', 'mpasivos_margen', ...]\n",
      "\t\t('int', [])      :  56 | ['numero_de_cliente', 'internet', 'cliente_edad', 'cliente_antiguedad', 'cproductos', ...]\n",
      "\t\t('object', [])   :   4 | ['tmobile_app', 'cmobile_app_trx', 'Master_delinquency', 'Visa_delinquency']\n",
      "\tTypes of features in processed data (raw dtype, special dtypes):\n",
      "\t\t('category', [])             :   2 | ['Master_delinquency', 'Visa_delinquency']\n",
      "\t\t('float', [])                : 287 | ['mrentabilidad', 'mrentabilidad_annual', 'mcomisiones', 'mactivos_margen', 'mpasivos_margen', ...]\n",
      "\t\t('int', [])                  :  55 | ['numero_de_cliente', 'internet', 'cliente_edad', 'cliente_antiguedad', 'cproductos', ...]\n",
      "\t\t('int', ['bool'])            :   9 | ['active_quarter', 'cliente_vip', 'tcuentas', 'cdescubierto_preacordado', 'tcallcenter', ...]\n",
      "\t\t('int', ['datetime_as_int']) :   4 | ['foto_mes', 'foto_mes.year', 'foto_mes.month', 'foto_mes.dayofweek']\n",
      "\t45.5s = Fit runtime\n",
      "\t354 features in original data used to generate 357 features in processed data.\n",
      "\tTrain Data (Processed) Memory Usage: 1929.53 MB (0.6% of available memory)\n",
      "Data preprocessing and feature engineering runtime = 51.03s ...\n",
      "AutoGluon will gauge predictive performance using evaluation metric: 'normalized_ganancia'\n",
      "\tTo change this, specify the eval_metric parameter of Predictor()\n",
      "Automatically generating train/validation split with holdout_frac=0.01, Train Rows: 1446054, Val Rows: 14607\n",
      "User-specified model hyperparameters to be fit:\n",
      "{\n",
      "\t'NN_TORCH': {},\n",
      "\t'GBM': [{'extra_trees': True, 'ag_args': {'name_suffix': 'XT'}}, {}, 'GBMLarge'],\n",
      "\t'CAT': {},\n",
      "\t'XGB': {},\n",
      "\t'FASTAI': {},\n",
      "\t'RF': [{'criterion': 'gini', 'ag_args': {'name_suffix': 'Gini', 'problem_types': ['binary', 'multiclass']}}, {'criterion': 'entropy', 'ag_args': {'name_suffix': 'Entr', 'problem_types': ['binary', 'multiclass']}}, {'criterion': 'squared_error', 'ag_args': {'name_suffix': 'MSE', 'problem_types': ['regression', 'quantile']}}],\n",
      "\t'XT': [{'criterion': 'gini', 'ag_args': {'name_suffix': 'Gini', 'problem_types': ['binary', 'multiclass']}}, {'criterion': 'entropy', 'ag_args': {'name_suffix': 'Entr', 'problem_types': ['binary', 'multiclass']}}, {'criterion': 'squared_error', 'ag_args': {'name_suffix': 'MSE', 'problem_types': ['regression', 'quantile']}}],\n",
      "\t'KNN': [{'weights': 'uniform', 'ag_args': {'name_suffix': 'Unif'}}, {'weights': 'distance', 'ag_args': {'name_suffix': 'Dist'}}],\n",
      "}\n",
      "Excluded models: ['KNN', 'XT', 'RF'] (Specified by `excluded_model_types`)\n",
      "Fitting 7 L1 models ...\n",
      "Fitting model: LightGBMXT ... Training model for up to 3548.97s of the 3548.96s of remaining time.\n"
     ]
    },
    {
     "name": "stdout",
     "output_type": "stream",
     "text": [
      "ideal_value 40.677 res -0.021000001579523087, ind 5, gan_max 0.23800000548362732 normalized_res -0.000516262300059569\n",
      "ideal_value 40.677 res -0.021000001579523087, ind 5, gan_max 0.23800000548362732 normalized_res -0.000516262300059569\n",
      "ideal_value 40.677 res -0.021000001579523087, ind 5, gan_max 0.23800000548362732 normalized_res -0.000516262300059569\n",
      "ideal_value 40.677 res -0.021000001579523087, ind 5, gan_max 0.23800000548362732 normalized_res -0.000516262300059569\n",
      "ideal_value 40.677 res -0.021000001579523087, ind 5, gan_max 0.23800000548362732 normalized_res -0.000516262300059569\n",
      "ideal_value 40.677 res -0.021000001579523087, ind 5, gan_max 0.23800000548362732 normalized_res -0.000516262300059569\n",
      "ideal_value 40.677 res -0.021000001579523087, ind 5, gan_max 0.23800000548362732 normalized_res -0.000516262300059569\n",
      "ideal_value 40.677 res -0.021000001579523087, ind 5, gan_max 0.23800000548362732 normalized_res -0.000516262300059569\n",
      "ideal_value 40.677 res -0.021000001579523087, ind 5, gan_max 0.23800000548362732 normalized_res -0.000516262300059569\n",
      "ideal_value 40.677 res -0.021000001579523087, ind 5, gan_max 0.23800000548362732 normalized_res -0.000516262300059569\n",
      "ideal_value 40.677 res nan, ind 0, gan_max 0.27300000190734863 normalized_res nan\n",
      "ideal_value 40.677 res nan, ind 0, gan_max 0.27300000190734863 normalized_res nan\n",
      "ideal_value 40.677 res nan, ind 0, gan_max 0.27300000190734863 normalized_res nan\n",
      "ideal_value 40.677 res nan, ind 0, gan_max 0.27300000190734863 normalized_res nan\n",
      "ideal_value 40.677 res nan, ind 0, gan_max 0.27300000190734863 normalized_res nan\n",
      "ideal_value 40.677 res -0.007000000216066837, ind 1, gan_max 0.26600000262260437 normalized_res -0.0001720874257213373\n",
      "ideal_value 40.677 res 0.12950000166893005, ind 2, gan_max 0.5390000343322754 normalized_res 0.0031836173186058476\n",
      "ideal_value 40.677 res 0.45266667008399963, ind 3, gan_max 0.8119999766349792 normalized_res 0.011128319937163499\n",
      "ideal_value 40.677 res 0.4025000333786011, ind 4, gan_max 0.8050000071525574 normalized_res 0.00989502749412693\n",
      "ideal_value 40.677 res 0.612500011920929, ind 4, gan_max 1.0850000381469727 normalized_res 0.015057649578900335\n",
      "ideal_value 40.677 res 0.612500011920929, ind 4, gan_max 1.0850000381469727 normalized_res 0.015057649578900335\n",
      "ideal_value 40.677 res 0.612500011920929, ind 4, gan_max 1.0850000381469727 normalized_res 0.015057649578900335\n",
      "ideal_value 40.677 res 0.612500011920929, ind 4, gan_max 1.0850000381469727 normalized_res 0.015057649578900335\n",
      "ideal_value 40.677 res 0.612500011920929, ind 4, gan_max 1.0850000381469727 normalized_res 0.015057649578900335\n",
      "ideal_value 40.677 res 0.612500011920929, ind 4, gan_max 1.0850000381469727 normalized_res 0.015057649578900335\n",
      "ideal_value 40.677 res 0.612500011920929, ind 4, gan_max 1.0850000381469727 normalized_res 0.015057649578900335\n",
      "ideal_value 40.677 res 0.612500011920929, ind 4, gan_max 1.0850000381469727 normalized_res 0.015057649578900335\n",
      "ideal_value 40.677 res 0.612500011920929, ind 4, gan_max 1.0850000381469727 normalized_res 0.015057649578900335\n",
      "ideal_value 40.677 res 0.612500011920929, ind 4, gan_max 1.0850000381469727 normalized_res 0.015057649578900335\n",
      "ideal_value 40.677 res 0.612500011920929, ind 4, gan_max 1.0850000381469727 normalized_res 0.015057649578900335\n",
      "ideal_value 40.677 res 0.612500011920929, ind 4, gan_max 1.0850000381469727 normalized_res 0.015057649578900335\n",
      "ideal_value 40.677 res 0.612500011920929, ind 4, gan_max 1.0850000381469727 normalized_res 0.015057649578900335\n",
      "ideal_value 40.677 res 0.612500011920929, ind 4, gan_max 1.0850000381469727 normalized_res 0.015057649578900335\n",
      "ideal_value 40.677 res 0.5949999690055847, ind 5, gan_max 1.0779999494552612 normalized_res 0.014627429972849146\n",
      "ideal_value 40.677 res 0.5949999690055847, ind 5, gan_max 1.0779999494552612 normalized_res 0.014627429972849146\n",
      "ideal_value 40.677 res 0.5949999690055847, ind 5, gan_max 1.0779999494552612 normalized_res 0.014627429972849146\n",
      "ideal_value 40.677 res 0.5320000052452087, ind 7, gan_max 1.063999891281128 normalized_res 0.01307864408007495\n",
      "ideal_value 40.677 res 0.5320000052452087, ind 7, gan_max 1.063999891281128 normalized_res 0.01307864408007495\n",
      "ideal_value 40.677 res 0.5320000052452087, ind 7, gan_max 1.063999891281128 normalized_res 0.01307864408007495\n",
      "ideal_value 40.677 res 0.5320000052452087, ind 7, gan_max 1.063999891281128 normalized_res 0.01307864408007495\n",
      "ideal_value 40.677 res 0.5320000052452087, ind 7, gan_max 1.063999891281128 normalized_res 0.01307864408007495\n",
      "ideal_value 40.677 res 0.5320000052452087, ind 7, gan_max 1.063999891281128 normalized_res 0.01307864408007495\n",
      "ideal_value 40.677 res 0.5320000052452087, ind 7, gan_max 1.063999891281128 normalized_res 0.01307864408007495\n",
      "ideal_value 40.677 res 0.5320000052452087, ind 7, gan_max 1.063999891281128 normalized_res 0.01307864408007495\n",
      "ideal_value 40.677 res 0.7384999990463257, ind 8, gan_max 1.3369998931884766 normalized_res 0.01815522282976438\n",
      "ideal_value 40.677 res 0.7384999990463257, ind 8, gan_max 1.3369998931884766 normalized_res 0.01815522282976438\n",
      "ideal_value 40.677 res 0.7384999990463257, ind 8, gan_max 1.3369998931884766 normalized_res 0.01815522282976438\n",
      "ideal_value 40.677 res 0.7384999990463257, ind 8, gan_max 1.3369998931884766 normalized_res 0.01815522282976438\n",
      "ideal_value 40.677 res 0.7384999990463257, ind 8, gan_max 1.3369998931884766 normalized_res 0.01815522282976438\n",
      "ideal_value 40.677 res 0.7384999990463257, ind 8, gan_max 1.3369998931884766 normalized_res 0.01815522282976438\n",
      "ideal_value 40.677 res 0.7384999990463257, ind 8, gan_max 1.3369998931884766 normalized_res 0.01815522282976438\n",
      "ideal_value 40.677 res 0.7384999990463257, ind 8, gan_max 1.3369998931884766 normalized_res 0.01815522282976438\n",
      "ideal_value 40.677 res 0.867222249507904, ind 9, gan_max 1.6100001335144043 normalized_res 0.02131971997708543\n",
      "ideal_value 40.677 res 0.867222249507904, ind 9, gan_max 1.6100001335144043 normalized_res 0.02131971997708543\n",
      "ideal_value 40.677 res 0.867222249507904, ind 9, gan_max 1.6100001335144043 normalized_res 0.02131971997708543\n",
      "ideal_value 40.677 res 0.867222249507904, ind 9, gan_max 1.6100001335144043 normalized_res 0.02131971997708543\n",
      "ideal_value 40.677 res 0.867222249507904, ind 9, gan_max 1.6100001335144043 normalized_res 0.02131971997708543\n",
      "ideal_value 40.677 res 0.867222249507904, ind 9, gan_max 1.6100001335144043 normalized_res 0.02131971997708543\n",
      "ideal_value 40.677 res 0.9605554938316345, ind 9, gan_max 1.8899999856948853 normalized_res 0.023614216727674966\n",
      "ideal_value 40.677 res 0.8295000195503235, ind 10, gan_max 1.6030000448226929 normalized_res 0.02039235979915735\n",
      "ideal_value 40.677 res 0.8295000195503235, ind 10, gan_max 1.6030000448226929 normalized_res 0.02039235979915735\n",
      "ideal_value 40.677 res 0.8295000195503235, ind 10, gan_max 1.6030000448226929 normalized_res 0.02039235979915735\n",
      "ideal_value 40.677 res 0.8295000195503235, ind 10, gan_max 1.6030000448226929 normalized_res 0.02039235979915735\n",
      "ideal_value 40.677 res 0.8295000195503235, ind 10, gan_max 1.6030000448226929 normalized_res 0.02039235979915735\n",
      "ideal_value 40.677 res 0.8295000195503235, ind 10, gan_max 1.6030000448226929 normalized_res 0.02039235979915735\n",
      "ideal_value 40.677 res 0.8295000195503235, ind 10, gan_max 1.6030000448226929 normalized_res 0.02039235979915735\n",
      "ideal_value 40.677 res 0.8854999542236328, ind 10, gan_max 1.8830000162124634 normalized_res 0.021769057556447938\n",
      "ideal_value 40.677 res 0.8854999542236328, ind 10, gan_max 1.8830000162124634 normalized_res 0.021769057556447938\n",
      "ideal_value 40.677 res 0.8854999542236328, ind 10, gan_max 1.8830000162124634 normalized_res 0.021769057556447938\n",
      "ideal_value 40.677 res 0.8854999542236328, ind 10, gan_max 1.8830000162124634 normalized_res 0.021769057556447938\n",
      "ideal_value 40.677 res 0.8854999542236328, ind 10, gan_max 1.8830000162124634 normalized_res 0.021769057556447938\n",
      "ideal_value 40.677 res 0.8854999542236328, ind 10, gan_max 1.8830000162124634 normalized_res 0.021769057556447938\n",
      "ideal_value 40.677 res 0.8295000195503235, ind 10, gan_max 1.6030000448226929 normalized_res 0.02039235979915735\n",
      "ideal_value 40.677 res 0.8295000195503235, ind 10, gan_max 1.6030000448226929 normalized_res 0.02039235979915735\n",
      "ideal_value 40.677 res 0.8854999542236328, ind 10, gan_max 1.8830000162124634 normalized_res 0.021769057556447938\n",
      "ideal_value 40.677 res 0.8854999542236328, ind 10, gan_max 1.8830000162124634 normalized_res 0.021769057556447938\n",
      "ideal_value 40.677 res 0.8295000195503235, ind 10, gan_max 1.6030000448226929 normalized_res 0.02039235979915735\n",
      "ideal_value 40.677 res 0.8295000195503235, ind 10, gan_max 1.6030000448226929 normalized_res 0.02039235979915735\n",
      "ideal_value 40.677 res 0.8854999542236328, ind 10, gan_max 1.8830000162124634 normalized_res 0.021769057556447938\n",
      "ideal_value 40.677 res 0.8854999542236328, ind 10, gan_max 1.8830000162124634 normalized_res 0.021769057556447938\n",
      "ideal_value 40.677 res 0.8854999542236328, ind 10, gan_max 1.8830000162124634 normalized_res 0.021769057556447938\n",
      "ideal_value 40.677 res 0.8854999542236328, ind 10, gan_max 1.8830000162124634 normalized_res 0.021769057556447938\n",
      "ideal_value 40.677 res 0.8295000195503235, ind 10, gan_max 1.6030000448226929 normalized_res 0.02039235979915735\n",
      "ideal_value 40.677 res 0.8295000195503235, ind 10, gan_max 1.6030000448226929 normalized_res 0.02039235979915735\n",
      "ideal_value 40.677 res 0.8295000195503235, ind 10, gan_max 1.6030000448226929 normalized_res 0.02039235979915735\n",
      "ideal_value 40.677 res 0.8295000195503235, ind 10, gan_max 1.6030000448226929 normalized_res 0.02039235979915735\n",
      "ideal_value 40.677 res 0.8854999542236328, ind 10, gan_max 1.8830000162124634 normalized_res 0.021769057556447938\n",
      "ideal_value 40.677 res 0.8295000195503235, ind 10, gan_max 1.6030000448226929 normalized_res 0.02039235979915735\n",
      "ideal_value 40.677 res 0.8295000195503235, ind 10, gan_max 1.6030000448226929 normalized_res 0.02039235979915735\n",
      "ideal_value 40.677 res 0.8295000195503235, ind 10, gan_max 1.6030000448226929 normalized_res 0.02039235979915735\n",
      "ideal_value 40.677 res 0.8295000195503235, ind 10, gan_max 1.6030000448226929 normalized_res 0.02039235979915735\n",
      "ideal_value 40.677 res 0.8295000195503235, ind 10, gan_max 1.6030000448226929 normalized_res 0.02039235979915735\n",
      "ideal_value 40.677 res 0.8295000195503235, ind 10, gan_max 1.6030000448226929 normalized_res 0.02039235979915735\n",
      "ideal_value 40.677 res 0.8295000195503235, ind 10, gan_max 1.6030000448226929 normalized_res 0.02039235979915735\n",
      "ideal_value 40.677 res 0.8295000195503235, ind 10, gan_max 1.6030000448226929 normalized_res 0.02039235979915735\n"
     ]
    },
    {
     "name": "stderr",
     "output_type": "stream",
     "text": [
      "\t0.0236\t = Validation score   (normalized_ganancia)\n",
      "\t33.27s\t = Training   runtime\n",
      "\t0.08s\t = Validation runtime\n",
      "Fitting model: LightGBM ... Training model for up to 3515.61s of the 3515.61s of remaining time.\n"
     ]
    },
    {
     "name": "stdout",
     "output_type": "stream",
     "text": [
      "ideal_value 40.677 res 0.8295000195503235, ind 10, gan_max 1.6030000448226929 normalized_res 0.02039235979915735\n",
      "ideal_value 40.677 res 0.9605555555555557, ind 9, gan_max 1.8900000000000001 normalized_res 0.023614218245090732\n",
      "ideal_value 40.677 res -0.021000001579523087, ind 5, gan_max 0.23800000548362732 normalized_res -0.000516262300059569\n",
      "ideal_value 40.677 res -0.021000001579523087, ind 5, gan_max 0.23800000548362732 normalized_res -0.000516262300059569\n",
      "ideal_value 40.677 res -0.021000001579523087, ind 5, gan_max 0.23800000548362732 normalized_res -0.000516262300059569\n",
      "ideal_value 40.677 res -0.021000001579523087, ind 5, gan_max 0.23800000548362732 normalized_res -0.000516262300059569\n",
      "ideal_value 40.677 res -0.021000001579523087, ind 5, gan_max 0.23800000548362732 normalized_res -0.000516262300059569\n",
      "ideal_value 40.677 res -0.021000001579523087, ind 5, gan_max 0.23800000548362732 normalized_res -0.000516262300059569\n",
      "ideal_value 40.677 res -0.021000001579523087, ind 5, gan_max 0.23800000548362732 normalized_res -0.000516262300059569\n",
      "ideal_value 40.677 res -0.021000001579523087, ind 5, gan_max 0.23800000548362732 normalized_res -0.000516262300059569\n",
      "ideal_value 40.677 res nan, ind 0, gan_max 0.27300000190734863 normalized_res nan\n",
      "ideal_value 40.677 res nan, ind 0, gan_max 0.27300000190734863 normalized_res nan\n",
      "ideal_value 40.677 res 0.2695000171661377, ind 2, gan_max 0.5390000343322754 normalized_res 0.006625366107779278\n",
      "ideal_value 40.677 res 0.45266667008399963, ind 3, gan_max 0.8119999766349792 normalized_res 0.011128319937163499\n",
      "ideal_value 40.677 res 0.45266667008399963, ind 3, gan_max 0.8119999766349792 normalized_res 0.011128319937163499\n",
      "ideal_value 40.677 res 0.45266667008399963, ind 3, gan_max 0.8119999766349792 normalized_res 0.011128319937163499\n",
      "ideal_value 40.677 res 0.45266667008399963, ind 3, gan_max 0.8119999766349792 normalized_res 0.011128319937163499\n",
      "ideal_value 40.677 res 0.45266667008399963, ind 3, gan_max 0.8119999766349792 normalized_res 0.011128319937163499\n",
      "ideal_value 40.677 res 0.6510000228881836, ind 5, gan_max 1.0779999494552612 normalized_res 0.01600413066077104\n",
      "ideal_value 40.677 res 0.6510000228881836, ind 5, gan_max 1.0779999494552612 normalized_res 0.01600413066077104\n",
      "ideal_value 40.677 res 0.6510000228881836, ind 5, gan_max 1.0779999494552612 normalized_res 0.01600413066077104\n",
      "ideal_value 40.677 res 0.6510000228881836, ind 5, gan_max 1.0779999494552612 normalized_res 0.01600413066077104\n",
      "ideal_value 40.677 res 0.6510000228881836, ind 5, gan_max 1.0779999494552612 normalized_res 0.01600413066077104\n",
      "ideal_value 40.677 res 0.6510000228881836, ind 5, gan_max 1.0779999494552612 normalized_res 0.01600413066077104\n",
      "ideal_value 40.677 res 0.6510000228881836, ind 5, gan_max 1.0779999494552612 normalized_res 0.01600413066077104\n",
      "ideal_value 40.677 res 0.6510000228881836, ind 5, gan_max 1.0779999494552612 normalized_res 0.01600413066077104\n",
      "ideal_value 40.677 res 0.6510000228881836, ind 5, gan_max 1.0779999494552612 normalized_res 0.01600413066077104\n",
      "ideal_value 40.677 res 0.6510000228881836, ind 5, gan_max 1.0779999494552612 normalized_res 0.01600413066077104\n",
      "ideal_value 40.677 res 0.6510000228881836, ind 5, gan_max 1.0779999494552612 normalized_res 0.01600413066077104\n",
      "ideal_value 40.677 res 0.6510000228881836, ind 5, gan_max 1.0779999494552612 normalized_res 0.01600413066077104\n",
      "ideal_value 40.677 res 0.6510000228881836, ind 5, gan_max 1.0779999494552612 normalized_res 0.01600413066077104\n",
      "ideal_value 40.677 res 0.6510000228881836, ind 5, gan_max 1.0779999494552612 normalized_res 0.01600413066077104\n",
      "ideal_value 40.677 res 0.6920000314712524, ind 7, gan_max 1.3440001010894775 normalized_res 0.017012071477032535\n",
      "ideal_value 40.677 res 0.6920000314712524, ind 7, gan_max 1.3440001010894775 normalized_res 0.017012071477032535\n",
      "ideal_value 40.677 res 0.5949999690055847, ind 5, gan_max 1.0779999494552612 normalized_res 0.014627429972849146\n",
      "ideal_value 40.677 res 0.6920000314712524, ind 7, gan_max 1.3440001010894775 normalized_res 0.017012071477032535\n",
      "ideal_value 40.677 res 0.6920000314712524, ind 7, gan_max 1.3440001010894775 normalized_res 0.017012071477032535\n",
      "ideal_value 40.677 res 0.6920000314712524, ind 7, gan_max 1.3440001010894775 normalized_res 0.017012071477032535\n",
      "ideal_value 40.677 res 0.6920000314712524, ind 7, gan_max 1.3440001010894775 normalized_res 0.017012071477032535\n",
      "ideal_value 40.677 res 0.6920000314712524, ind 7, gan_max 1.3440001010894775 normalized_res 0.017012071477032535\n",
      "ideal_value 40.677 res 0.6920000314712524, ind 7, gan_max 1.3440001010894775 normalized_res 0.017012071477032535\n",
      "ideal_value 40.677 res 0.6920000314712524, ind 7, gan_max 1.3440001010894775 normalized_res 0.017012071477032535\n",
      "ideal_value 40.677 res 0.6920000314712524, ind 7, gan_max 1.3440001010894775 normalized_res 0.017012071477032535\n",
      "ideal_value 40.677 res 0.6920000314712524, ind 7, gan_max 1.3440001010894775 normalized_res 0.017012071477032535\n",
      "ideal_value 40.677 res 0.6920000314712524, ind 7, gan_max 1.3440001010894775 normalized_res 0.017012071477032535\n",
      "ideal_value 40.677 res 0.6920000314712524, ind 7, gan_max 1.3440001010894775 normalized_res 0.017012071477032535\n",
      "ideal_value 40.677 res 0.6920000314712524, ind 7, gan_max 1.3440001010894775 normalized_res 0.017012071477032535\n",
      "ideal_value 40.677 res 0.6920000314712524, ind 7, gan_max 1.3440001010894775 normalized_res 0.017012071477032535\n",
      "ideal_value 40.677 res 0.6920000314712524, ind 7, gan_max 1.3440001010894775 normalized_res 0.017012071477032535\n",
      "ideal_value 40.677 res 0.6920000314712524, ind 7, gan_max 1.3440001010894775 normalized_res 0.017012071477032535\n",
      "ideal_value 40.677 res 0.6920000314712524, ind 7, gan_max 1.3440001010894775 normalized_res 0.017012071477032535\n",
      "ideal_value 40.677 res 0.6920000314712524, ind 7, gan_max 1.3440001010894775 normalized_res 0.017012071477032535\n",
      "ideal_value 40.677 res 0.6920000314712524, ind 7, gan_max 1.3440001010894775 normalized_res 0.017012071477032535\n",
      "ideal_value 40.677 res 0.6920000314712524, ind 7, gan_max 1.3440001010894775 normalized_res 0.017012071477032535\n",
      "ideal_value 40.677 res 0.6920000314712524, ind 7, gan_max 1.3440001010894775 normalized_res 0.017012071477032535\n",
      "ideal_value 40.677 res 0.6920000314712524, ind 7, gan_max 1.3440001010894775 normalized_res 0.017012071477032535\n",
      "ideal_value 40.677 res 0.6920000314712524, ind 7, gan_max 1.3440001010894775 normalized_res 0.017012071477032535\n",
      "ideal_value 40.677 res 0.6920000314712524, ind 7, gan_max 1.3440001010894775 normalized_res 0.017012071477032535\n",
      "ideal_value 40.677 res 0.6920000314712524, ind 7, gan_max 1.3440001010894775 normalized_res 0.017012071477032535\n",
      "ideal_value 40.677 res 0.9320000410079956, ind 7, gan_max 1.624000072479248 normalized_res 0.022912211839811087\n",
      "ideal_value 40.677 res 0.8855000734329224, ind 10, gan_max 1.883000135421753 normalized_res 0.021769060487079245\n",
      "ideal_value 40.677 res 0.8855000734329224, ind 10, gan_max 1.883000135421753 normalized_res 0.021769060487079245\n",
      "ideal_value 40.677 res 0.8855000734329224, ind 10, gan_max 1.883000135421753 normalized_res 0.021769060487079245\n",
      "ideal_value 40.677 res 0.8855000734329224, ind 10, gan_max 1.883000135421753 normalized_res 0.021769060487079245\n",
      "ideal_value 40.677 res 0.8855000734329224, ind 10, gan_max 1.883000135421753 normalized_res 0.021769060487079245\n",
      "ideal_value 40.677 res 0.8855000734329224, ind 10, gan_max 1.883000135421753 normalized_res 0.021769060487079245\n",
      "ideal_value 40.677 res 0.8855000734329224, ind 10, gan_max 1.883000135421753 normalized_res 0.021769060487079245\n",
      "ideal_value 40.677 res 0.8855000734329224, ind 10, gan_max 1.883000135421753 normalized_res 0.021769060487079245\n",
      "ideal_value 40.677 res 0.8855000734329224, ind 10, gan_max 1.883000135421753 normalized_res 0.021769060487079245\n",
      "ideal_value 40.677 res 0.8855000734329224, ind 10, gan_max 1.883000135421753 normalized_res 0.021769060487079245\n",
      "ideal_value 40.677 res 0.8855000734329224, ind 10, gan_max 1.883000135421753 normalized_res 0.021769060487079245\n",
      "ideal_value 40.677 res 0.8855000734329224, ind 10, gan_max 1.883000135421753 normalized_res 0.021769060487079245\n",
      "ideal_value 40.677 res 0.8855000734329224, ind 10, gan_max 1.883000135421753 normalized_res 0.021769060487079245\n",
      "ideal_value 40.677 res 0.8855000734329224, ind 10, gan_max 1.883000135421753 normalized_res 0.021769060487079245\n",
      "ideal_value 40.677 res 0.8855000734329224, ind 10, gan_max 1.883000135421753 normalized_res 0.021769060487079245\n",
      "ideal_value 40.677 res 1.1095000505447388, ind 10, gan_max 2.1630001068115234 normalized_res 0.02727585737750421\n",
      "ideal_value 40.677 res 1.1095000505447388, ind 10, gan_max 2.1630001068115234 normalized_res 0.02727585737750421\n",
      "ideal_value 40.677 res 1.0270910263061523, ind 11, gan_max 2.1560001373291016 normalized_res 0.02524992074897737\n",
      "ideal_value 40.677 res 1.0270910263061523, ind 11, gan_max 2.1560001373291016 normalized_res 0.02524992074897737\n",
      "ideal_value 40.677 res 0.8178332448005676, ind 12, gan_max 2.1489999294281006 normalized_res 0.020105544774702354\n",
      "ideal_value 40.677 res 0.8178332448005676, ind 12, gan_max 2.1489999294281006 normalized_res 0.020105544774702354\n",
      "ideal_value 40.677 res 0.8178332448005676, ind 12, gan_max 2.1489999294281006 normalized_res 0.020105544774702354\n",
      "ideal_value 40.677 res 0.8178332448005676, ind 12, gan_max 2.1489999294281006 normalized_res 0.020105544774702354\n",
      "ideal_value 40.677 res 0.8178332448005676, ind 12, gan_max 2.1489999294281006 normalized_res 0.020105544774702354\n",
      "ideal_value 40.677 res 0.8178332448005676, ind 12, gan_max 2.1489999294281006 normalized_res 0.020105544774702354\n",
      "ideal_value 40.677 res 0.8178332448005676, ind 12, gan_max 2.1489999294281006 normalized_res 0.020105544774702354\n",
      "ideal_value 40.677 res 0.8178332448005676, ind 12, gan_max 2.1489999294281006 normalized_res 0.020105544774702354\n",
      "ideal_value 40.677 res 0.8178332448005676, ind 12, gan_max 2.1489999294281006 normalized_res 0.020105544774702354\n",
      "ideal_value 40.677 res 0.8178332448005676, ind 12, gan_max 2.1489999294281006 normalized_res 0.020105544774702354\n",
      "ideal_value 40.677 res 0.8178332448005676, ind 12, gan_max 2.1489999294281006 normalized_res 0.020105544774702354\n",
      "ideal_value 40.677 res 0.8178332448005676, ind 12, gan_max 2.1489999294281006 normalized_res 0.020105544774702354\n",
      "ideal_value 40.677 res 0.8178332448005676, ind 12, gan_max 2.1489999294281006 normalized_res 0.020105544774702354\n",
      "ideal_value 40.677 res 0.8178332448005676, ind 12, gan_max 2.1489999294281006 normalized_res 0.020105544774702354\n",
      "ideal_value 40.677 res 0.7874999642372131, ind 14, gan_max 2.134999990463257 normalized_res 0.019359833916887014\n",
      "ideal_value 40.677 res 0.7874999642372131, ind 14, gan_max 2.134999990463257 normalized_res 0.019359833916887014\n",
      "ideal_value 40.677 res 0.7874999642372131, ind 14, gan_max 2.134999990463257 normalized_res 0.019359833916887014\n",
      "ideal_value 40.677 res 0.7874999642372131, ind 14, gan_max 2.134999990463257 normalized_res 0.019359833916887014\n",
      "ideal_value 40.677 res 0.7874999642372131, ind 14, gan_max 2.134999990463257 normalized_res 0.019359833916887014\n",
      "ideal_value 40.677 res 0.7874999642372131, ind 14, gan_max 2.134999990463257 normalized_res 0.019359833916887014\n",
      "ideal_value 40.677 res 0.8213332295417786, ind 15, gan_max 2.127999782562256 normalized_res 0.02019158810978633\n",
      "ideal_value 40.677 res 0.8213332295417786, ind 15, gan_max 2.127999782562256 normalized_res 0.02019158810978633\n",
      "ideal_value 40.677 res 0.8213332295417786, ind 15, gan_max 2.127999782562256 normalized_res 0.02019158810978633\n",
      "ideal_value 40.677 res 0.8213332295417786, ind 15, gan_max 2.127999782562256 normalized_res 0.02019158810978633\n",
      "ideal_value 40.677 res 0.8213332295417786, ind 15, gan_max 2.127999782562256 normalized_res 0.02019158810978633\n",
      "ideal_value 40.677 res 0.8213332295417786, ind 15, gan_max 2.127999782562256 normalized_res 0.02019158810978633\n",
      "ideal_value 40.677 res 0.8213332295417786, ind 15, gan_max 2.127999782562256 normalized_res 0.02019158810978633\n",
      "ideal_value 40.677 res 0.8213332295417786, ind 15, gan_max 2.127999782562256 normalized_res 0.02019158810978633\n",
      "ideal_value 40.677 res 0.8213332295417786, ind 15, gan_max 2.127999782562256 normalized_res 0.02019158810978633\n",
      "ideal_value 40.677 res 0.8213332295417786, ind 15, gan_max 2.127999782562256 normalized_res 0.02019158810978633\n",
      "ideal_value 40.677 res 0.8213332295417786, ind 15, gan_max 2.127999782562256 normalized_res 0.02019158810978633\n",
      "ideal_value 40.677 res 0.8213332295417786, ind 15, gan_max 2.127999782562256 normalized_res 0.02019158810978633\n",
      "ideal_value 40.677 res 0.8213332295417786, ind 15, gan_max 2.127999782562256 normalized_res 0.02019158810978633\n",
      "ideal_value 40.677 res 0.8213332295417786, ind 15, gan_max 2.127999782562256 normalized_res 0.02019158810978633\n",
      "ideal_value 40.677 res 0.8213332295417786, ind 15, gan_max 2.127999782562256 normalized_res 0.02019158810978633\n",
      "ideal_value 40.677 res 0.8213332295417786, ind 15, gan_max 2.127999782562256 normalized_res 0.02019158810978633\n",
      "ideal_value 40.677 res 0.8213332295417786, ind 15, gan_max 2.127999782562256 normalized_res 0.02019158810978633\n",
      "ideal_value 40.677 res 1.087499976158142, ind 14, gan_max 2.4149999618530273 normalized_res 0.026735009370360205\n"
     ]
    },
    {
     "name": "stderr",
     "output_type": "stream",
     "text": [
      "\t0.0273\t = Validation score   (normalized_ganancia)\n",
      "\t35.03s\t = Training   runtime\n",
      "\t0.08s\t = Validation runtime\n",
      "Fitting model: CatBoost ... Training model for up to 3480.44s of the 3480.44s of remaining time.\n"
     ]
    },
    {
     "name": "stdout",
     "output_type": "stream",
     "text": [
      "ideal_value 40.677 res 1.087499976158142, ind 14, gan_max 2.4149999618530273 normalized_res 0.026735009370360205\n",
      "ideal_value 40.677 res 1.1095000000000002, ind 10, gan_max 2.1630000000000003 normalized_res 0.02727585613491654\n"
     ]
    },
    {
     "name": "stderr",
     "output_type": "stream",
     "text": [
      "\t0.0381\t = Validation score   (normalized_ganancia)\n",
      "\t2760.08s\t = Training   runtime\n",
      "\t0.08s\t = Validation runtime\n",
      "Fitting model: NeuralNetFastAI ... Training model for up to 720.21s of the 720.21s of remaining time.\n"
     ]
    },
    {
     "name": "stdout",
     "output_type": "stream",
     "text": [
      "ideal_value 40.677 res 1.5512777777777782, ind 18, gan_max 3.507000000000001 normalized_res 0.03813648444520929\n"
     ]
    },
    {
     "name": "stderr",
     "output_type": "stream",
     "text": [
      "Metric normalized_ganancia is not supported by this model - using log_loss instead\n",
      "\t0.0088\t = Validation score   (normalized_ganancia)\n",
      "\t511.31s\t = Training   runtime\n",
      "\t0.72s\t = Validation runtime\n"
     ]
    },
    {
     "name": "stdout",
     "output_type": "stream",
     "text": [
      "ideal_value 40.677 res 0.35933333333333334, ind 3, gan_max 0.812 normalized_res 0.008833820914357826\n"
     ]
    },
    {
     "name": "stderr",
     "output_type": "stream",
     "text": [
      "Fitting model: XGBoost ... Training model for up to 207.97s of the 207.96s of remaining time.\n"
     ]
    },
    {
     "name": "stdout",
     "output_type": "stream",
     "text": [
      "ideal_value 40.677 res 0.6825000047683716, ind 4, gan_max 1.3650000095367432 normalized_res 0.01677852360715814\n",
      "ideal_value 40.677 res 0.45266667008399963, ind 3, gan_max 0.8119999766349792 normalized_res 0.011128319937163499\n",
      "ideal_value 40.677 res 0.45266667008399963, ind 3, gan_max 0.8119999766349792 normalized_res 0.011128319937163499\n",
      "ideal_value 40.677 res 0.45266667008399963, ind 3, gan_max 0.8119999766349792 normalized_res 0.011128319937163499\n",
      "ideal_value 40.677 res 0.45266667008399963, ind 3, gan_max 0.8119999766349792 normalized_res 0.011128319937163499\n",
      "ideal_value 40.677 res 0.45266667008399963, ind 3, gan_max 0.8119999766349792 normalized_res 0.011128319937163499\n",
      "ideal_value 40.677 res 0.45266667008399963, ind 3, gan_max 0.8119999766349792 normalized_res 0.011128319937163499\n",
      "ideal_value 40.677 res 0.2695000171661377, ind 2, gan_max 0.5390000343322754 normalized_res 0.006625366107779278\n",
      "ideal_value 40.677 res 0.27300000190734863, ind 1, gan_max 0.5460000038146973 normalized_res 0.006711409442863255\n",
      "ideal_value 40.677 res 0.27300000190734863, ind 1, gan_max 0.5460000038146973 normalized_res 0.006711409442863255\n",
      "ideal_value 40.677 res 0.2695000171661377, ind 2, gan_max 0.5390000343322754 normalized_res 0.006625366107779278\n",
      "ideal_value 40.677 res 0.45266667008399963, ind 3, gan_max 0.8119999766349792 normalized_res 0.011128319937163499\n",
      "ideal_value 40.677 res 0.45266667008399963, ind 3, gan_max 0.8119999766349792 normalized_res 0.011128319937163499\n",
      "ideal_value 40.677 res 0.45266667008399963, ind 3, gan_max 0.8119999766349792 normalized_res 0.011128319937163499\n",
      "ideal_value 40.677 res 0.45266667008399963, ind 3, gan_max 0.8119999766349792 normalized_res 0.011128319937163499\n",
      "ideal_value 40.677 res 0.45266667008399963, ind 3, gan_max 0.8119999766349792 normalized_res 0.011128319937163499\n",
      "ideal_value 40.677 res 0.45266667008399963, ind 3, gan_max 0.8119999766349792 normalized_res 0.011128319937163499\n",
      "ideal_value 40.677 res 0.2695000171661377, ind 2, gan_max 0.5390000343322754 normalized_res 0.006625366107779278\n",
      "ideal_value 40.677 res 0.45266667008399963, ind 3, gan_max 0.8119999766349792 normalized_res 0.011128319937163499\n",
      "ideal_value 40.677 res 0.45266667008399963, ind 3, gan_max 0.8119999766349792 normalized_res 0.011128319937163499\n",
      "ideal_value 40.677 res 0.45266667008399963, ind 3, gan_max 0.8119999766349792 normalized_res 0.011128319937163499\n"
     ]
    },
    {
     "name": "stderr",
     "output_type": "stream",
     "text": [
      "\t0.0168\t = Validation score   (normalized_ganancia)\n",
      "\t71.95s\t = Training   runtime\n",
      "\t0.52s\t = Validation runtime\n",
      "Fitting model: NeuralNetTorch ... Training model for up to 135.45s of the 135.44s of remaining time.\n"
     ]
    },
    {
     "name": "stdout",
     "output_type": "stream",
     "text": [
      "ideal_value 40.677 res 0.6825000000000001, ind 4, gan_max 1.3650000000000002 normalized_res 0.01677852348993289\n"
     ]
    },
    {
     "name": "stderr",
     "output_type": "stream",
     "text": [
      "\tTime limit exceeded... Skipping NeuralNetTorch.\n",
      "AutoGluon training complete, total runtime = 3670.43s ... Best model: \"CatBoost\"\n",
      "TabularPredictor saved. To load, use: predictor = TabularPredictor.load(\"AutogluonModels/ag-20231120_210737/\")\n"
     ]
    }
   ],
   "source": [
    "predictor = TabularPredictor(label='target', eval_metric=ag_ganancia_custom_scorer).fit(\n",
    "    train_data,\n",
    "    time_limit=3600,\n",
    "    num_cpus=24,\n",
    "    excluded_model_types = ['KNN', 'XT' ,'RF'],\n",
    "    num_stack_levels=0,\n",
    "    fit_weighted_ensemble=False,\n",
    ")"
   ]
  },
  {
   "cell_type": "code",
   "execution_count": 11,
   "id": "cc001759-d8d0-41f3-b6ba-f4e7a04e9adb",
   "metadata": {},
   "outputs": [],
   "source": [
    "predictor = TabularPredictor.load(\"AutogluonModels/ag-20231120_210737/\")\n",
    "preds = predictor.predict_proba(X_val)\n",
    "y_val = np.where(y_val=='B2', 1, 0)"
   ]
  },
  {
   "cell_type": "code",
   "execution_count": 13,
   "id": "94c93447-c4b5-4eaa-b42c-6dff66ec042c",
   "metadata": {},
   "outputs": [],
   "source": [
    "def ganancia_integral(probs: np.array, \n",
    "                      y_true: np.array) -> float:\n",
    "    ganancia_df = pd.DataFrame({'prob': probs, 'truth': y_true})\n",
    "    ganancia_df = ganancia_df.sort_values(by='prob', ascending=False).reset_index(drop=True)\n",
    "    ganancia_df['ganancia_ind'] = np.where(ganancia_df['truth']==1, 273, -7)\n",
    "    ganancia_df['ganancia_roll'] = ganancia_df['ganancia_ind'].cumsum()\n",
    "    gan_max = ganancia_df['ganancia_roll'].max()\n",
    "    ind = ganancia_df[ganancia_df['ganancia_roll']==gan_max].index[0]\n",
    "    print(ind)\n",
    "    res = np.mean(ganancia_df['ganancia_roll'].iloc[ind-1000:ind+1001])\n",
    "    return res"
   ]
  },
  {
   "cell_type": "code",
   "execution_count": 13,
   "id": "796017c4-2eb7-4d39-a376-d80d08d61af4",
   "metadata": {},
   "outputs": [
    {
     "name": "stdout",
     "output_type": "stream",
     "text": [
      "17906\n"
     ]
    },
    {
     "data": {
      "text/plain": [
       "408816.27736131934"
      ]
     },
     "execution_count": 13,
     "metadata": {},
     "output_type": "execute_result"
    }
   ],
   "source": [
    "# With B2+B1 target engineering\n",
    "ganancia_integral(preds[1], y_val)"
   ]
  },
  {
   "cell_type": "code",
   "execution_count": 14,
   "id": "ac74f71e-e47c-47cd-9b96-ac732be216ba",
   "metadata": {},
   "outputs": [
    {
     "name": "stdout",
     "output_type": "stream",
     "text": [
      "13823\n"
     ]
    },
    {
     "data": {
      "text/plain": [
       "143097.26736631684"
      ]
     },
     "execution_count": 14,
     "metadata": {},
     "output_type": "execute_result"
    }
   ],
   "source": [
    "# True value\n",
    "ganancia_integral(preds[1], y_val)"
   ]
  }
 ],
 "metadata": {
  "kernelspec": {
   "display_name": "autogluon",
   "language": "python",
   "name": "autogluon"
  },
  "language_info": {
   "codemirror_mode": {
    "name": "ipython",
    "version": 3
   },
   "file_extension": ".py",
   "mimetype": "text/x-python",
   "name": "python",
   "nbconvert_exporter": "python",
   "pygments_lexer": "ipython3",
   "version": "3.9.7"
  }
 },
 "nbformat": 4,
 "nbformat_minor": 5
}
