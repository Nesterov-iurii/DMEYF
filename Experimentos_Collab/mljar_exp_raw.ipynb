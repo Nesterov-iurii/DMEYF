{
 "cells": [
  {
   "cell_type": "code",
   "execution_count": 16,
   "id": "55131be2-8210-4e88-aa5b-95851a78a330",
   "metadata": {},
   "outputs": [],
   "source": [
    "import pandas as pd\n",
    "import numpy as np\n",
    "\n",
    "df = pd.read_parquet('baseline_raw.parquet')"
   ]
  },
  {
   "cell_type": "code",
   "execution_count": 17,
   "id": "79fd830d-28c3-48e8-b375-f5ea05545bd6",
   "metadata": {},
   "outputs": [],
   "source": [
    "df['foto_mes'] = pd.to_datetime(df['foto_mes'], format='%Y%m')"
   ]
  },
  {
   "cell_type": "code",
   "execution_count": 18,
   "id": "681c25e5-9b48-42d8-abd3-b745a55ccbba",
   "metadata": {},
   "outputs": [],
   "source": [
    "df_val = df[df['foto_mes']=='2021-07-01']\n",
    "df_train = df[df['foto_mes']<'2021-07-01']"
   ]
  },
  {
   "cell_type": "code",
   "execution_count": 19,
   "id": "460588ea-609c-49b6-9b62-7f929b636358",
   "metadata": {},
   "outputs": [
    {
     "data": {
      "text/plain": [
       "((164682, 155), (979558, 155))"
      ]
     },
     "execution_count": 19,
     "metadata": {},
     "output_type": "execute_result"
    }
   ],
   "source": [
    "df_val.shape, df_train.shape"
   ]
  },
  {
   "cell_type": "code",
   "execution_count": 20,
   "id": "a3d321f2-18b2-4a4c-a284-af6cd773cf06",
   "metadata": {},
   "outputs": [
    {
     "name": "stderr",
     "output_type": "stream",
     "text": [
      "/tmp/ipykernel_2361096/3571757368.py:3: SettingWithCopyWarning: \n",
      "A value is trying to be set on a copy of a slice from a DataFrame.\n",
      "Try using .loc[row_indexer,col_indexer] = value instead\n",
      "\n",
      "See the caveats in the documentation: https://pandas.pydata.org/pandas-docs/stable/user_guide/indexing.html#returning-a-view-versus-a-copy\n"
     ]
    }
   ],
   "source": [
    "b1_clients = pd.read_csv('B1_clients_202107.csv')\n",
    "b1 = set(b1_clients['numero_de_cliente'])\n",
    "df_val['target'] = np.where(df_val['numero_de_cliente'].isin(b1), 'B1', df_val['target'])"
   ]
  },
  {
   "cell_type": "code",
   "execution_count": 21,
   "id": "f3a1c2a5-017e-4459-9e52-5acb7341004a",
   "metadata": {},
   "outputs": [],
   "source": [
    "X_train = df_train.drop(columns=['target'])\n",
    "X_val = df_val.drop(columns=['target'])\n",
    "y_train = df_train['target']\n",
    "y_val = df_val['target']"
   ]
  },
  {
   "cell_type": "code",
   "execution_count": 22,
   "id": "08b221f6-85ea-4d50-95d0-a6d7a929bcf1",
   "metadata": {},
   "outputs": [
    {
     "data": {
      "text/plain": [
       "C     162337\n",
       "B2      1268\n",
       "B1      1077\n",
       "Name: target, dtype: int64"
      ]
     },
     "execution_count": 22,
     "metadata": {},
     "output_type": "execute_result"
    }
   ],
   "source": [
    "y_val.value_counts()"
   ]
  },
  {
   "cell_type": "code",
   "execution_count": null,
   "id": "73eda005-edff-465d-b9ef-e22067be451c",
   "metadata": {},
   "outputs": [
    {
     "name": "stdout",
     "output_type": "stream",
     "text": [
      "Linear algorithm was disabled.\n",
      "AutoML directory: AutoML_1\n",
      "The task is binary_classification with evaluation metric f1\n",
      "AutoML will use algorithms: ['Decision Tree', 'Random Forest', 'Extra Trees', 'LightGBM', 'Xgboost', 'CatBoost', 'Neural Network', 'Nearest Neighbors']\n",
      "AutoML steps: ['adjust_validation', 'simple_algorithms', 'default_algorithms', 'not_so_random', 'mix_encoding', 'golden_features', 'kmeans_features', 'insert_random_feature', 'features_selection', 'hill_climbing_1', 'hill_climbing_2', 'boost_on_errors']\n",
      "* Step adjust_validation will try to check up to 1 model\n",
      "1_DecisionTree f1 0.994132 trained in 47.93 seconds\n",
      "Adjust validation. Remove: 1_DecisionTree\n",
      "Validation strategy: 5-fold CV Shuffle,Stratify\n",
      "* Step simple_algorithms will try to check up to 3 models\n",
      "1_DecisionTree f1 0.994132 trained in 254.62 seconds\n",
      "2_DecisionTree f1 0.994139 trained in 307.38 seconds\n",
      "3_DecisionTree f1 0.994139 trained in 311.33 seconds\n",
      "* Step default_algorithms will try to check up to 6 models\n",
      "4_Default_LightGBM f1 0.994287 trained in 257.74 seconds\n"
     ]
    },
    {
     "name": "stderr",
     "output_type": "stream",
     "text": [
      "/home/ynesterov/miniconda3/lib/python3.9/site-packages/xgboost/training.py:39: UserWarning: `feval` is deprecated, use `custom_metric` instead.  They have different behavior when custom objective is also used.See https://xgboost.readthedocs.io/en/latest/tutorials/custom_metric_obj.html for details on the `custom_metric`.\n",
      "/home/ynesterov/miniconda3/lib/python3.9/site-packages/xgboost/training.py:39: UserWarning: `feval` is deprecated, use `custom_metric` instead.  They have different behavior when custom objective is also used.See https://xgboost.readthedocs.io/en/latest/tutorials/custom_metric_obj.html for details on the `custom_metric`.\n",
      "/home/ynesterov/miniconda3/lib/python3.9/site-packages/xgboost/training.py:39: UserWarning: `feval` is deprecated, use `custom_metric` instead.  They have different behavior when custom objective is also used.See https://xgboost.readthedocs.io/en/latest/tutorials/custom_metric_obj.html for details on the `custom_metric`.\n",
      "/home/ynesterov/miniconda3/lib/python3.9/site-packages/xgboost/training.py:39: UserWarning: `feval` is deprecated, use `custom_metric` instead.  They have different behavior when custom objective is also used.See https://xgboost.readthedocs.io/en/latest/tutorials/custom_metric_obj.html for details on the `custom_metric`.\n",
      "/home/ynesterov/miniconda3/lib/python3.9/site-packages/xgboost/training.py:39: UserWarning: `feval` is deprecated, use `custom_metric` instead.  They have different behavior when custom objective is also used.See https://xgboost.readthedocs.io/en/latest/tutorials/custom_metric_obj.html for details on the `custom_metric`.\n"
     ]
    },
    {
     "name": "stdout",
     "output_type": "stream",
     "text": [
      "5_Default_Xgboost f1 0.994281 trained in 332.66 seconds\n",
      "6_Default_CatBoost f1 0.994343 trained in 241.66 seconds\n",
      "7_Default_NeuralNetwork f1 0.99414 trained in 2201.54 seconds\n",
      "8_Default_RandomForest f1 0.994181 trained in 852.15 seconds\n",
      "9_Default_ExtraTrees f1 0.99419 trained in 727.93 seconds\n",
      "* Step not_so_random will try to check up to 54 models\n",
      "19_LightGBM f1 0.994232 trained in 240.43 seconds\n"
     ]
    },
    {
     "name": "stderr",
     "output_type": "stream",
     "text": [
      "/home/ynesterov/miniconda3/lib/python3.9/site-packages/xgboost/training.py:39: UserWarning: `feval` is deprecated, use `custom_metric` instead.  They have different behavior when custom objective is also used.See https://xgboost.readthedocs.io/en/latest/tutorials/custom_metric_obj.html for details on the `custom_metric`.\n",
      "/home/ynesterov/miniconda3/lib/python3.9/site-packages/xgboost/training.py:39: UserWarning: `feval` is deprecated, use `custom_metric` instead.  They have different behavior when custom objective is also used.See https://xgboost.readthedocs.io/en/latest/tutorials/custom_metric_obj.html for details on the `custom_metric`.\n",
      "/home/ynesterov/miniconda3/lib/python3.9/site-packages/xgboost/training.py:39: UserWarning: `feval` is deprecated, use `custom_metric` instead.  They have different behavior when custom objective is also used.See https://xgboost.readthedocs.io/en/latest/tutorials/custom_metric_obj.html for details on the `custom_metric`.\n",
      "/home/ynesterov/miniconda3/lib/python3.9/site-packages/xgboost/training.py:39: UserWarning: `feval` is deprecated, use `custom_metric` instead.  They have different behavior when custom objective is also used.See https://xgboost.readthedocs.io/en/latest/tutorials/custom_metric_obj.html for details on the `custom_metric`.\n",
      "/home/ynesterov/miniconda3/lib/python3.9/site-packages/xgboost/training.py:39: UserWarning: `feval` is deprecated, use `custom_metric` instead.  They have different behavior when custom objective is also used.See https://xgboost.readthedocs.io/en/latest/tutorials/custom_metric_obj.html for details on the `custom_metric`.\n"
     ]
    },
    {
     "name": "stdout",
     "output_type": "stream",
     "text": [
      "10_Xgboost f1 0.994297 trained in 305.83 seconds\n",
      "28_CatBoost f1 0.994338 trained in 279.11 seconds\n",
      "37_RandomForest f1 0.994202 trained in 871.63 seconds\n",
      "46_ExtraTrees f1 0.994206 trained in 757.73 seconds\n",
      "55_NeuralNetwork f1 0.994132 trained in 2062.6 seconds\n",
      "20_LightGBM f1 0.994209 trained in 262.78 seconds\n"
     ]
    },
    {
     "name": "stderr",
     "output_type": "stream",
     "text": [
      "/home/ynesterov/miniconda3/lib/python3.9/site-packages/xgboost/training.py:39: UserWarning: `feval` is deprecated, use `custom_metric` instead.  They have different behavior when custom objective is also used.See https://xgboost.readthedocs.io/en/latest/tutorials/custom_metric_obj.html for details on the `custom_metric`.\n",
      "/home/ynesterov/miniconda3/lib/python3.9/site-packages/xgboost/training.py:39: UserWarning: `feval` is deprecated, use `custom_metric` instead.  They have different behavior when custom objective is also used.See https://xgboost.readthedocs.io/en/latest/tutorials/custom_metric_obj.html for details on the `custom_metric`.\n",
      "/home/ynesterov/miniconda3/lib/python3.9/site-packages/xgboost/training.py:39: UserWarning: `feval` is deprecated, use `custom_metric` instead.  They have different behavior when custom objective is also used.See https://xgboost.readthedocs.io/en/latest/tutorials/custom_metric_obj.html for details on the `custom_metric`.\n",
      "/home/ynesterov/miniconda3/lib/python3.9/site-packages/xgboost/training.py:39: UserWarning: `feval` is deprecated, use `custom_metric` instead.  They have different behavior when custom objective is also used.See https://xgboost.readthedocs.io/en/latest/tutorials/custom_metric_obj.html for details on the `custom_metric`.\n",
      "/home/ynesterov/miniconda3/lib/python3.9/site-packages/xgboost/training.py:39: UserWarning: `feval` is deprecated, use `custom_metric` instead.  They have different behavior when custom objective is also used.See https://xgboost.readthedocs.io/en/latest/tutorials/custom_metric_obj.html for details on the `custom_metric`.\n"
     ]
    },
    {
     "name": "stdout",
     "output_type": "stream",
     "text": [
      "11_Xgboost f1 0.994315 trained in 296.43 seconds\n",
      "29_CatBoost f1 0.994375 trained in 315.25 seconds\n",
      "38_RandomForest f1 0.994259 trained in 1458.07 seconds\n",
      "* Step mix_encoding will try to check up to 1 model\n"
     ]
    },
    {
     "name": "stderr",
     "output_type": "stream",
     "text": [
      "/home/ynesterov/miniconda3/lib/python3.9/site-packages/xgboost/training.py:39: UserWarning: `feval` is deprecated, use `custom_metric` instead.  They have different behavior when custom objective is also used.See https://xgboost.readthedocs.io/en/latest/tutorials/custom_metric_obj.html for details on the `custom_metric`.\n",
      "/home/ynesterov/miniconda3/lib/python3.9/site-packages/xgboost/training.py:39: UserWarning: `feval` is deprecated, use `custom_metric` instead.  They have different behavior when custom objective is also used.See https://xgboost.readthedocs.io/en/latest/tutorials/custom_metric_obj.html for details on the `custom_metric`.\n",
      "/home/ynesterov/miniconda3/lib/python3.9/site-packages/xgboost/training.py:39: UserWarning: `feval` is deprecated, use `custom_metric` instead.  They have different behavior when custom objective is also used.See https://xgboost.readthedocs.io/en/latest/tutorials/custom_metric_obj.html for details on the `custom_metric`.\n",
      "/home/ynesterov/miniconda3/lib/python3.9/site-packages/xgboost/training.py:39: UserWarning: `feval` is deprecated, use `custom_metric` instead.  They have different behavior when custom objective is also used.See https://xgboost.readthedocs.io/en/latest/tutorials/custom_metric_obj.html for details on the `custom_metric`.\n",
      "/home/ynesterov/miniconda3/lib/python3.9/site-packages/xgboost/training.py:39: UserWarning: `feval` is deprecated, use `custom_metric` instead.  They have different behavior when custom objective is also used.See https://xgboost.readthedocs.io/en/latest/tutorials/custom_metric_obj.html for details on the `custom_metric`.\n"
     ]
    },
    {
     "name": "stdout",
     "output_type": "stream",
     "text": [
      "11_Xgboost_categorical_mix f1 0.994318 trained in 322.58 seconds\n",
      "* Step golden_features will try to check up to 3 models\n",
      "None 14\n",
      "Add Golden Feature: ccomisiones_otras_sum_cpayroll_trx\n",
      "Add Golden Feature: catm_trx_sum_ccomisiones_otras\n",
      "Add Golden Feature: catm_trx_sum_cproductos\n",
      "Add Golden Feature: ctarjeta_debito_transacciones_sum_cproductos\n",
      "Add Golden Feature: ctrx_quarter_sum_mpagomiscuentas\n",
      "Add Golden Feature: Visa_mlimitecompra_multiply_ctrx_quarter\n",
      "Add Golden Feature: cextraccion_autoservicio_sum_ccomisiones_otras\n",
      "Add Golden Feature: ctrx_quarter_sum_mplazo_fijo_dolares\n",
      "Add Golden Feature: mextraccion_autoservicio_sum_ccomisiones_otras\n",
      "Add Golden Feature: ctarjeta_debito_transacciones_diff_ctrx_quarter\n",
      "Add Golden Feature: ccomisiones_otras_sum_ctarjeta_debito_transacciones\n",
      "Add Golden Feature: Master_Fvencimiento_ratio_ctrx_quarter\n",
      "Add Golden Feature: matm_sum_ccomisiones_otras\n",
      "Add Golden Feature: Master_fechaalta_ratio_ctrx_quarter\n",
      "Created 14 Golden Features in 110.51 seconds.\n",
      "29_CatBoost_GoldenFeatures f1 0.994373 trained in 432.64 seconds\n",
      "6_Default_CatBoost_GoldenFeatures f1 0.994337 trained in 260.32 seconds\n",
      "28_CatBoost_GoldenFeatures f1 0.994342 trained in 305.46 seconds\n",
      "* Step kmeans_features will try to check up to 3 models\n"
     ]
    },
    {
     "name": "stderr",
     "output_type": "stream",
     "text": [
      "/home/ynesterov/miniconda3/lib/python3.9/site-packages/sklearn/cluster/_kmeans.py:870: FutureWarning: The default value of `n_init` will change from 3 to 'auto' in 1.4. Set the value of `n_init` explicitly to suppress the warning\n",
      "OpenBLAS warning: precompiled NUM_THREADS exceeded, adding auxiliary array for thread metadata.\n",
      "/home/ynesterov/miniconda3/lib/python3.9/site-packages/sklearn/cluster/_kmeans.py:870: FutureWarning: The default value of `n_init` will change from 3 to 'auto' in 1.4. Set the value of `n_init` explicitly to suppress the warning\n"
     ]
    }
   ],
   "source": [
    "%%time\n",
    "\n",
    "from supervised.automl import AutoML\n",
    "\n",
    "automl = AutoML(\n",
    "    total_time_limit=3600*6,\n",
    "    mode='Compete',\n",
    "    stack_models=False,\n",
    "    random_state=158151,\n",
    "    train_ensemble=False,\n",
    "    eval_metric='f1',\n",
    ")\n",
    "automl.fit(X_train, y_train)\n",
    "\n",
    "predictions = automl.predict(X_val)"
   ]
  },
  {
   "cell_type": "markdown",
   "id": "0eaac4e8-4e57-4553-b38e-30ea3dfc6a3b",
   "metadata": {},
   "source": [
    "# The training broke down in the middle of the process, had to restart"
   ]
  },
  {
   "cell_type": "code",
   "execution_count": 24,
   "id": "60d3eca9-12de-434d-8494-3f598f20ef24",
   "metadata": {},
   "outputs": [],
   "source": [
    "from supervised.automl import AutoML\n",
    "automl = AutoML(results_path='AutoML_1')"
   ]
  },
  {
   "cell_type": "code",
   "execution_count": 25,
   "id": "cc001759-d8d0-41f3-b6ba-f4e7a04e9adb",
   "metadata": {},
   "outputs": [],
   "source": [
    "preds = automl.predict_proba(X_val)\n",
    "preds=preds[:,0]\n",
    "y_val = np.where(y_val=='B2', 1, 0)"
   ]
  },
  {
   "cell_type": "code",
   "execution_count": 26,
   "id": "97c87dd2-97df-45c4-8845-10761ad67636",
   "metadata": {},
   "outputs": [
    {
     "data": {
      "text/plain": [
       "0    163414\n",
       "1      1268\n",
       "dtype: int64"
      ]
     },
     "execution_count": 26,
     "metadata": {},
     "output_type": "execute_result"
    }
   ],
   "source": [
    "pd.Series(y_val).value_counts()"
   ]
  },
  {
   "cell_type": "code",
   "execution_count": 10,
   "id": "94c93447-c4b5-4eaa-b42c-6dff66ec042c",
   "metadata": {},
   "outputs": [],
   "source": [
    "def ganancia_integral(probs: np.array, \n",
    "                      y_true: np.array) -> float:\n",
    "    ganancia_df = pd.DataFrame({'prob': probs, 'truth': y_true})\n",
    "    ganancia_df = ganancia_df.sort_values(by='prob', ascending=False).reset_index(drop=True)\n",
    "    ganancia_df['ganancia_ind'] = np.where(ganancia_df['truth']==1, 273, -7)\n",
    "    ganancia_df['ganancia_roll'] = ganancia_df['ganancia_ind'].cumsum()\n",
    "    gan_max = ganancia_df['ganancia_roll'].max()\n",
    "    ind = ganancia_df[ganancia_df['ganancia_roll']==gan_max].index[0]\n",
    "    print(ind)\n",
    "    res = np.mean(ganancia_df['ganancia_roll'].iloc[ind-1000:ind+1001])\n",
    "    return res"
   ]
  },
  {
   "cell_type": "code",
   "execution_count": 13,
   "id": "796017c4-2eb7-4d39-a376-d80d08d61af4",
   "metadata": {},
   "outputs": [
    {
     "name": "stdout",
     "output_type": "stream",
     "text": [
      "29561\n"
     ]
    },
    {
     "data": {
      "text/plain": [
       "322552.1569215392"
      ]
     },
     "execution_count": 13,
     "metadata": {},
     "output_type": "execute_result"
    }
   ],
   "source": [
    "# target engineering value\n",
    "y_val = np.where(y_val=='B2', 1, 0)\n",
    "ganancia_integral(preds, y_val)"
   ]
  },
  {
   "cell_type": "code",
   "execution_count": 27,
   "id": "77e621e0-0eae-431f-a49a-f11217545e2c",
   "metadata": {},
   "outputs": [
    {
     "name": "stdout",
     "output_type": "stream",
     "text": [
      "16028\n"
     ]
    },
    {
     "data": {
      "text/plain": [
       "104018.84907546226"
      ]
     },
     "execution_count": 27,
     "metadata": {},
     "output_type": "execute_result"
    }
   ],
   "source": [
    "# True value\n",
    "ganancia_integral(preds, y_val)"
   ]
  },
  {
   "cell_type": "code",
   "execution_count": null,
   "id": "58e725e0-a2a9-4671-be3f-4f64e578da34",
   "metadata": {},
   "outputs": [],
   "source": []
  }
 ],
 "metadata": {
  "kernelspec": {
   "display_name": "Python 3 (ipykernel)",
   "language": "python",
   "name": "python3"
  },
  "language_info": {
   "codemirror_mode": {
    "name": "ipython",
    "version": 3
   },
   "file_extension": ".py",
   "mimetype": "text/x-python",
   "name": "python",
   "nbconvert_exporter": "python",
   "pygments_lexer": "ipython3",
   "version": "3.9.7"
  }
 },
 "nbformat": 4,
 "nbformat_minor": 5
}
